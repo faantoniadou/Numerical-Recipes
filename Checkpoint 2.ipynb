{
 "cells": [
  {
   "cell_type": "markdown",
   "metadata": {
    "deletable": false,
    "editable": false,
    "nbgrader": {
     "cell_type": "markdown",
     "checksum": "ef563c69f70e4508d5d2186248842296",
     "grade": false,
     "grade_id": "header",
     "locked": true,
     "schema_version": 3,
     "solution": false,
     "task": false
    }
   },
   "source": [
    "# Checkpoint 2\n",
    "\n",
    "**Due: Friday, 6 November, 2020 at 5:00pm GMT**\n",
    "\n",
    "### Read This First\n",
    "1. Use the constants provided in the cell below. Do not use your own constants.\n",
    "\n",
    "2. Put the code that produces the output for a given task in the cell indicated. You are welcome to add as many cells as you like for imports, function definitions, variables, etc. **Additional cells need to be in the proper order such that your code runs correctly the first time through.**\n",
    "\n",
    "3. **IMPORTANT!** Before submitting your notebook, clear the output by clicking *Restart & Clear Output* from the *Kernel* menu. If you do not do this, the file size of your notebook will be very large."
   ]
  },
  {
   "cell_type": "code",
   "execution_count": 6,
   "metadata": {},
   "outputs": [],
   "source": [
    "import matplotlib.pyplot as plt\n",
    "%matplotlib inline\n",
    "import numpy as np\n",
    "import time\n",
    "import math\n",
    "\n",
    "from scipy import linalg\n",
    "from numpy import linalg as LA\n",
    "from scipy.sparse.linalg import eigsh\n",
    "from scipy.sparse.linalg import spsolve\n",
    "from scipy.sparse import diags\n",
    "from scipy.sparse import identity\n",
    "from scipy.linalg import eigh_tridiagonal\n",
    "from scipy.sparse import csr_matrix\n",
    "\n",
    "plt.rcParams['figure.figsize'] = (10, 6)\n",
    "plt.rcParams['font.size'] = 16"
   ]
  },
  {
   "cell_type": "markdown",
   "metadata": {
    "deletable": false,
    "editable": false,
    "nbgrader": {
     "cell_type": "markdown",
     "checksum": "97fb576f81dbdf14d16161118c8478ee",
     "grade": false,
     "grade_id": "section-task1",
     "locked": true,
     "schema_version": 3,
     "solution": false,
     "task": false
    }
   },
   "source": [
    "# Task 1 (25p)\n",
    "\n",
    "Find numerically the first 101 lowest eigenvalues (“energies”) of the discrete Hamiltonian matrix, H, for V=0 and x=0,...,L, with L=100, dx=1/8 and with reflecting boundary conditions:\n",
    "\n",
    "$\n",
    "\\begin{align}\n",
    "\\psi_N \\equiv \\psi_{N-1},\n",
    "\\end{align}\n",
    "$\n",
    "\n",
    "$\n",
    "\\begin{align}\n",
    "\\psi_{-1} \\equiv \\psi_0,\n",
    "\\end{align}\n",
    "$\n",
    "\n",
    "Here the index -1 denotes the element to the left of the element zero, not the element N-1 as in Python. Note that indices $-1, N$ refer to elements of $\\psi$ that are outside the matrix H.\n",
    "\n",
    "Hint: The eigenvalues, $w_n$, should be\n",
    "\n",
    "$\n",
    "\\large\n",
    "\\begin{align}\n",
    "w_n = \\frac{2\\left(1 - \\cos (\\frac{n \\pi}{N}) \\right)}{dx^2}\n",
    "\\end{align}\n",
    "$\n",
    "\n",
    "for n=0, 1,..., 100. The corresponding (non-normalized) eigenvectors, $v_n$ are\n",
    "\n",
    "$\n",
    "\\large\n",
    "\\begin{align}\n",
    "v_n = \\cos \\left( \\frac{n \\pi x}{L} \\right)\n",
    "\\end{align}\n",
    "$\n",
    "\n",
    "for x=0, dx,..., (N-1)dx."
   ]
  },
  {
   "cell_type": "code",
   "execution_count": 7,
   "metadata": {
    "deletable": false,
    "editable": false,
    "nbgrader": {
     "cell_type": "code",
     "checksum": "3b96418e8d805191fab5578bfe1d9c6c",
     "grade": false,
     "grade_id": "constants-task1",
     "locked": true,
     "schema_version": 3,
     "solution": false,
     "task": false
    }
   },
   "outputs": [
    {
     "name": "stdout",
     "output_type": "stream",
     "text": [
      "Matrix size: 800.\n"
     ]
    }
   ],
   "source": [
    "### Values for task 1\n",
    "L  = 100\n",
    "dx = 1/8\n",
    "N  = int(L/dx)\n",
    "print(f\"Matrix size: {N}.\")"
   ]
  },
  {
   "cell_type": "markdown",
   "metadata": {
    "deletable": false,
    "editable": false,
    "nbgrader": {
     "cell_type": "markdown",
     "checksum": "f0ae58bad90ae10f41964fb2483fcd7a",
     "grade": false,
     "grade_id": "section-task1-cont",
     "locked": true,
     "schema_version": 3,
     "solution": false,
     "task": false
    }
   },
   "source": [
    "In the cell below, compute the 101 lowest eigenvalues given the values of V, L, and dx from above. The function, `task1` should return an array of the eigenvalues.\n",
    "\n",
    "It may be useful to write a generalized function for creating the Hamiltonian given values of N, dx, and V."
   ]
  },
  {
   "cell_type": "code",
   "execution_count": 8,
   "metadata": {},
   "outputs": [],
   "source": [
    "big_bang = time.time()"
   ]
  },
  {
   "cell_type": "code",
   "execution_count": 9,
   "metadata": {},
   "outputs": [],
   "source": [
    "def hamiltonian(N, dx, V):\n",
    "    \"\"\"\n",
    "    Compute the discrete Hamiltonian matrix.\n",
    "    \n",
    "    Parameters\n",
    "    ----------\n",
    "    N : int\n",
    "        Number of points in trajectory arrays\n",
    "    dx: float\n",
    "        Step between equally spaced points in space in the path of the quantum particle\n",
    "    V: array\n",
    "        Potential of at each x position in the particle's path\n",
    "        \n",
    "    Returns\n",
    "    -------\n",
    "    H: matrix\n",
    "        The Hamiltonian matrix\n",
    "        \n",
    "    \"\"\"\n",
    "    \n",
    "    #diagonals = [np.ones(N-1), -2 * np.ones(N) - V * dx**2, np.ones(N-1)]\n",
    "\n",
    "    H = - dx**(-2) * diags([1, -2, 1], [-1, 0, 1], shape=[N, N]).toarray() + diags([V], [0], shape=(N,N)).toarray()\n",
    "    \n",
    "    #implement boundary conditions\n",
    "    H[0,0] += H[0,1]\n",
    "    H[-1,-1] += H[-1,-2]\n",
    "    \n",
    "    return H"
   ]
  },
  {
   "cell_type": "code",
   "execution_count": 10,
   "metadata": {
    "deletable": false,
    "nbgrader": {
     "cell_type": "code",
     "checksum": "2a540aba8afd7cc72f9f22b65262e589",
     "grade": false,
     "grade_id": "function-task1",
     "locked": false,
     "schema_version": 3,
     "solution": true,
     "task": false
    }
   },
   "outputs": [],
   "source": [
    "def task1():\n",
    "    \"\"\"\n",
    "    Compute the 101 lowest eigenvalues of the Hamiltonian matrix\n",
    "        \n",
    "    Returns\n",
    "    -------\n",
    "    smallest_evalues: array\n",
    "    \n",
    "    \"\"\"\n",
    "    \n",
    "    hmatrix = hamiltonian(N, dx, 0)\n",
    "    \n",
    "    evalues, evectors = eigsh(hmatrix, k=101, sigma=None, which='SM')\n",
    "    smallest_evalues = np.sort(evalues)\n",
    "\n",
    "    return smallest_evalues"
   ]
  },
  {
   "cell_type": "markdown",
   "metadata": {
    "deletable": false,
    "editable": false,
    "nbgrader": {
     "cell_type": "markdown",
     "checksum": "a305e20dabd91962b111fda679d05c27",
     "grade": false,
     "grade_id": "section-testing-task1",
     "locked": true,
     "schema_version": 3,
     "solution": false,
     "task": false
    }
   },
   "source": [
    "## Testing task 1\n",
    "\n",
    "The cell below will run your function and compare it with the expected values."
   ]
  },
  {
   "cell_type": "code",
   "execution_count": 11,
   "metadata": {
    "deletable": false,
    "editable": false,
    "nbgrader": {
     "cell_type": "code",
     "checksum": "807d873c64673010810b7a92b3e122b0",
     "grade": true,
     "grade_id": "test-task1",
     "locked": true,
     "points": 0,
     "schema_version": 3,
     "solution": false,
     "task": false
    }
   },
   "outputs": [
    {
     "name": "stdout",
     "output_type": "stream",
     "text": [
      "Time to solution: 1.885359525680542 seconds.\n"
     ]
    },
    {
     "data": {
      "image/png": "[encoded data removed]",
      "text/plain": [
       "<Figure size 720x432 with 1 Axes>"
      ]
     },
     "metadata": {
      "needs_background": "light"
     },
     "output_type": "display_data"
    },
    {
     "name": "stdout",
     "output_type": "stream",
     "text": [
      "Max difference is 7.661133476638815e-12.\n"
     ]
    }
   ],
   "source": [
    "t1 = time.time()\n",
    "ww = task1()\n",
    "t2 = time.time()\n",
    "print (f\"Time to solution: {t2-t1} seconds.\")\n",
    "\n",
    "my_n = np.arange(101)\n",
    "ww_expected = 2 * (1 - np.cos(my_n*np.pi/N)) / dx**2\n",
    "\n",
    "plt.plot(my_n, ww, label='Computed', alpha=0.8)\n",
    "plt.plot(my_n, ww_expected, label='Expected', linewidth=2, linestyle='--', alpha=0.8)\n",
    "plt.xlabel(r'$n$')\n",
    "plt.ylabel(r'$w_{n}$')\n",
    "plt.legend()\n",
    "plt.show()\n",
    "\n",
    "diff = np.abs(ww - ww_expected) / np.max(np.abs([ww, ww_expected]), axis=0)\n",
    "print (f\"Max difference is {diff[1:].max()}.\")\n",
    "assert (diff[1:] < 1e-6).all()"
   ]
  },
  {
   "cell_type": "markdown",
   "metadata": {
    "deletable": false,
    "editable": false,
    "nbgrader": {
     "cell_type": "markdown",
     "checksum": "6b54b11725241c0fc135be932c0dc0bf",
     "grade": false,
     "grade_id": "section-task2",
     "locked": true,
     "schema_version": 3,
     "solution": false,
     "task": false
    }
   },
   "source": [
    "# Task 2 (5p)\n",
    "\n",
    "Select dx as a negative power of two ($dx=2^{-n}$ for n>0) such that the 101th eigenvalue differs from the dx$\\rightarrow$0 limiting value of\n",
    "\n",
    "$\n",
    "\\begin{align}\n",
    "w_{101,exact} = \\frac{(100\\pi/N)^{2}}{dx^2}\n",
    "\\end{align}\n",
    "$\n",
    "\n",
    "by less than 0.1%, i.e., $|w_{101}/w_{101,exact}-1|<0.001$.\n",
    "\n",
    "Motivation: selecting a sufficiently small dx is required to obtain a good approximation to the original (continuous) equation (1) for subsequent tasks.\n",
    "\n",
    "In the cell below, compute a value of dx that satisfies the above contraint. The function `task2` should return the value of dx that you have calculated."
   ]
  },
  {
   "cell_type": "code",
   "execution_count": 12,
   "metadata": {
    "deletable": false,
    "nbgrader": {
     "cell_type": "code",
     "checksum": "564c94d57db0859bc5bc3dd8c130330d",
     "grade": false,
     "grade_id": "function-task2",
     "locked": false,
     "schema_version": 3,
     "solution": true,
     "task": false
    }
   },
   "outputs": [],
   "source": [
    "def task2():\n",
    "    \"\"\"\n",
    "    Compute a value of dx that satisfies the above constraint\n",
    "        \n",
    "    Returns\n",
    "    -------\n",
    "    dx: float\n",
    "        Calculated value of dx\n",
    "\n",
    "    \"\"\"\n",
    "    n = np.arange(0,11, dtype=float)\n",
    "    \n",
    "    for i in range(0, n.size):\n",
    "        my_dx = np.power(2.0, -i)\n",
    "        nmax = max(102, int(L/my_dx))\n",
    "        ww_exact = (100 * np.pi/nmax)**2 / my_dx**2\n",
    "        \n",
    "        hmatrix = hamiltonian(nmax, my_dx, 0)\n",
    "        evalues = eigh_tridiagonal(np.diagonal(hmatrix), np.diagonal(hmatrix,1), eigvals_only=True, select='i', select_range=(0,100))\n",
    "        error = abs((max(evalues)/ww_exact) - 1)\n",
    "        \n",
    "        if error < 0.001:\n",
    "            return(my_dx)"
   ]
  },
  {
   "cell_type": "markdown",
   "metadata": {
    "deletable": false,
    "editable": false,
    "nbgrader": {
     "cell_type": "markdown",
     "checksum": "39641e91784f331101fec867e65e432a",
     "grade": false,
     "grade_id": "section-testing-task2",
     "locked": true,
     "schema_version": 3,
     "solution": false,
     "task": false
    }
   },
   "source": [
    "## Testing task 2\n",
    "\n",
    "The cell below will run the `task2` function. We will verify that value of dx return satisfies the criterion outlined above."
   ]
  },
  {
   "cell_type": "code",
   "execution_count": 13,
   "metadata": {
    "deletable": false,
    "editable": false,
    "nbgrader": {
     "cell_type": "code",
     "checksum": "c5bc499d8c9b1e1acf2400536aa6dd26",
     "grade": true,
     "grade_id": "test-task2",
     "locked": true,
     "points": 0,
     "schema_version": 3,
     "solution": false,
     "task": false
    }
   },
   "outputs": [
    {
     "name": "stdout",
     "output_type": "stream",
     "text": [
      "Time to solution: 0.3400077819824219 seconds.\n"
     ]
    }
   ],
   "source": [
    "t1 = time.time()\n",
    "my_dx = task2()\n",
    "t2 = time.time()\n",
    "print (f\"Time to solution: {t2-t1} seconds.\")\n"
   ]
  },
  {
   "cell_type": "code",
   "execution_count": 14,
   "metadata": {},
   "outputs": [
    {
     "name": "stdout",
     "output_type": "stream",
     "text": [
      "0.03125\n"
     ]
    }
   ],
   "source": [
    "print(my_dx)"
   ]
  },
  {
   "cell_type": "markdown",
   "metadata": {
    "deletable": false,
    "editable": false,
    "nbgrader": {
     "cell_type": "markdown",
     "checksum": "f2e4dcb87cfbbe6722c352b2f9bc17a7",
     "grade": false,
     "grade_id": "section-task3",
     "locked": true,
     "schema_version": 3,
     "solution": false,
     "task": false
    }
   },
   "source": [
    "# Task 3 (20p)\n",
    "\n",
    "Solve equation (1) with the initial condition (2) (the Schroedinger equation and the Gaussian function from the checkpoint's description) for V(x)=0, on a domain x=0...100, for t=0...4 and dx from task 2. Plot $|\\psi(x,t)|^2$ and determine its mean given by\n",
    "\n",
    "$\n",
    "\\large\n",
    "\\begin{align}\n",
    "<x>\\ = \\int_{0}^{100} |ψ(x)|^2 x dx.\n",
    "\\end{align}\n",
    "$\n",
    "\n",
    "The mean should be equal to 79$\\pm$-1.\n",
    "\n",
    "Hint: use the procedure for creating the Hamiltonian matrix from tasks 1, 2. This will reduce the amount of coding required."
   ]
  },
  {
   "cell_type": "code",
   "execution_count": 15,
   "metadata": {},
   "outputs": [],
   "source": [
    "from scipy.sparse import csc_matrix\n",
    "from scipy.sparse.linalg import spsolve"
   ]
  },
  {
   "cell_type": "code",
   "execution_count": 16,
   "metadata": {
    "deletable": false,
    "editable": false,
    "nbgrader": {
     "cell_type": "code",
     "checksum": "9a9e978c8645282513b821173f09c460",
     "grade": false,
     "grade_id": "constants-task3",
     "locked": true,
     "schema_version": 3,
     "solution": false,
     "task": false
    }
   },
   "outputs": [],
   "source": [
    "### Constants for task 3 and 4\n",
    "x0     = 15\n",
    "v      = 16\n",
    "sigma2 = 5\n",
    "tmax   = 4"
   ]
  },
  {
   "cell_type": "code",
   "execution_count": 17,
   "metadata": {},
   "outputs": [],
   "source": [
    "def form_time(max_time, dx, dt):\n",
    "    \"\"\"\n",
    "    Form an array for time\n",
    "    \n",
    "    Parameters\n",
    "    ----------\n",
    "    max_time: float\n",
    "        End time in units of seconds.\n",
    "    dx: float\n",
    "        Step between equally spaced points in space in the path of the quantum particle\n",
    "    dt: float\n",
    "        Step between equally spaced points in time in while the particle moves\n",
    "        \n",
    "    Returns\n",
    "    -------\n",
    "    t_array: array\n",
    "        Array of time values in seconds timing the particle's motion\n",
    "        \n",
    "    \"\"\"\n",
    "    t_array = np.arange(0, tmax + dt, dt)\n",
    "    \n",
    "    return t_array"
   ]
  },
  {
   "cell_type": "code",
   "execution_count": 18,
   "metadata": {},
   "outputs": [],
   "source": [
    "def form_space(dx):\n",
    "    \"\"\"\n",
    "    Form an array for space\n",
    "    \n",
    "    Parameters\n",
    "    ----------\n",
    "    dx: float\n",
    "        Step between equally spaced points in space in the path of the quantum particle\n",
    "        \n",
    "    Returns\n",
    "    -------\n",
    "    x_values : array\n",
    "        x positions of particle's path\n",
    "    N: int\n",
    "        Total number of steps taken by the particle through its path\n",
    "        \n",
    "    \"\"\"\n",
    "    \n",
    "    N = int(L/dx)\n",
    "    x_values = np.linspace(0, L, N)\n",
    "    \n",
    "    return N, x_values"
   ]
  },
  {
   "cell_type": "code",
   "execution_count": 19,
   "metadata": {},
   "outputs": [],
   "source": [
    "def psi_initial(x, dx, velocity):\n",
    "    \"\"\"\n",
    "    Compute the initial condition of the particle's wavefunction\n",
    "    \n",
    "    Parameters\n",
    "    ----------\n",
    "    x : array\n",
    "        x positions of particle's path\n",
    "    dx: float\n",
    "        Step between equally spaced points in space in the path of the quantum particle\n",
    "    velocity: float\n",
    "        Initial velocity of the particle\n",
    "        \n",
    "    Returns\n",
    "    -------\n",
    "    psi0: array\n",
    "        NORMALISED initial condition of the particle's wavefunction\n",
    "        \n",
    "    \"\"\"\n",
    "    \n",
    "    gaussian = np.exp(-(x - x0)**2 / (sigma2))                        # create gaussian function\n",
    "    \n",
    "    # normalise the gaussian\n",
    "    integral = integrate.simps(gaussian, x=None, dx=dx, even='last')\n",
    "    norm_const = 1/np.sqrt(integral)\n",
    "    \n",
    "    #normalise initial condition \n",
    "    psi0 = norm_const * np.exp(-(x - x0)**2/ (2 * sigma2) + 1j * velocity * x/2)\n",
    "    \n",
    "    return psi0"
   ]
  },
  {
   "cell_type": "code",
   "execution_count": 32,
   "metadata": {},
   "outputs": [],
   "source": [
    "def spectral(H, initial_condition, evalue_range, time):\n",
    "    \"\"\"\n",
    "    Perform the spectral method to compute the wavefunction\n",
    "    \n",
    "    Parameters\n",
    "    ----------\n",
    "    x : array\n",
    "        x positions of particle's path\n",
    "    dx: float\n",
    "        Step between equally spaced points in space in the path of the quantum particle\n",
    "    velocity: float\n",
    "        Initial velocity of the particle\n",
    "        \n",
    "    Returns\n",
    "    -------\n",
    "    psi0: array\n",
    "        NORMALISED initial condition of the particle's wavefunction\n",
    "        \n",
    "    \"\"\"\n",
    "    #SPECTRAL METHOD\n",
    "    \n",
    "    lam, phi = eigh_tridiagonal(np.diagonal(H), np.diagonal(H,1), select='i', select_range=(evalue_range))\n",
    "    a = np.ascontiguousarray(phi.T).dot(initial_condition)\n",
    "    psi_n = 0\n",
    "    \n",
    "    ### BEGIN SOLUTION\n",
    "    \n",
    "    psi_n = (a * np.exp(-1j * lam * time) * phi).sum(axis=1)\n",
    "    \n",
    "    ### END SOLUTION\n",
    "    \n",
    "    return psi_n"
   ]
  },
  {
   "cell_type": "code",
   "execution_count": 33,
   "metadata": {},
   "outputs": [],
   "source": [
    "# solves for psi using spectral method\n",
    "\n",
    "def wavefunction(V):\n",
    "    \"\"\"\n",
    "    Form an array for the wavefunction\n",
    "    \n",
    "    Parameters\n",
    "    ----------\n",
    "    V: float\n",
    "        Potential of at each x position in the particle's path\n",
    "        \n",
    "    Returns\n",
    "    -------\n",
    "    x_values: array\n",
    "        x positions of particle's path\n",
    "    psi0: array\n",
    "        Initial condition wavefunction of the partivle\n",
    "    psi_n: array\n",
    "        Wavefunction given a potential\n",
    "        \n",
    "    \"\"\"\n",
    "    # define variables\n",
    "    N, x_values = form_space(2**(-5))\n",
    "    new_dt = (my_dx)**2/2 \n",
    "    hmatrix = hamiltonian(N, 2**(-5), V)\n",
    "                                                                                                                                                                                                             \n",
    "    # set initial condition\n",
    "    psi0 = psi_initial(x_values, 2**(-5), v)\n",
    "        \n",
    "    psi_n = spectral(hmatrix, psi0, (150,350), tmax)\n",
    "    \n",
    "    # return only wanted values for t = 0 and t = 4 and x values\n",
    "    return x_values, psi0, psi_n"
   ]
  },
  {
   "cell_type": "markdown",
   "metadata": {
    "deletable": false,
    "editable": false,
    "nbgrader": {
     "cell_type": "markdown",
     "checksum": "1e27c438de19cefd35bfacb16b3d74e8",
     "grade": false,
     "grade_id": "section-plot-task3",
     "locked": true,
     "schema_version": 3,
     "solution": false,
     "task": false
    }
   },
   "source": [
    "## Task 3 plot and result\n",
    "\n",
    "In the cell(s) below, do the following:\n",
    "1. Solve equation (1) for t=0...4 and plot $|\\psi(x,t=0)|^2$ and $|\\psi(x,t=tmax)|^2$ as a function of x.\n",
    "2. Compute the mean of the final position and print the value. The correct result should be between 78 and 80.\n",
    "\n",
    "Don't forget to nomalize your Gaussian initial condition so that the total probability $\\int_0^L |\\psi(x,t=0)|^2 dx=1$. \n",
    "\n",
    "You do not have to wrap up the calculation in a function \"task3()\", but doing so may help to reduce the amount of coding for tasks 4-6."
   ]
  },
  {
   "cell_type": "code",
   "execution_count": 34,
   "metadata": {},
   "outputs": [],
   "source": [
    "from scipy.integrate import solve_ivp\n",
    "from scipy import integrate"
   ]
  },
  {
   "cell_type": "code",
   "execution_count": 39,
   "metadata": {
    "deletable": false,
    "nbgrader": {
     "cell_type": "code",
     "checksum": "46aef034c85233969d2a90e3f1e102b1",
     "grade": true,
     "grade_id": "function-task3",
     "locked": false,
     "points": 0,
     "schema_version": 3,
     "solution": true,
     "task": false
    }
   },
   "outputs": [],
   "source": [
    "def prob_dens(V):\n",
    "    \"\"\"\n",
    "    Compute the probability density and mean of the final position of the particle\n",
    "    \n",
    "    Parameters\n",
    "    ----------\n",
    "    V: float\n",
    "        Potential of at each x position in the particle's path\n",
    "        \n",
    "    Returns\n",
    "    -------\n",
    "    x_values: array\n",
    "        x positions of particle's path\n",
    "    prob: array\n",
    "        Probability density distribution of the initial position\n",
    "    prob_n: array\n",
    "        Probability density distribution of the final position\n",
    "        \n",
    "    \"\"\"\n",
    "    x_values, psi0, psi_n = wavefunction(V)\n",
    "    \n",
    "    # calculate wanted probability distributions\n",
    "    prob0 = (psi0 * np.conjugate(psi0)).real\n",
    "    prob_n = (psi_n * np.conjugate(psi_n)).real\n",
    "    \n",
    "    integrand =  prob_n * x_values\n",
    "    mean = integrate.simps(integrand, x=None, dx=(2**-5), even='last')\n",
    "    \n",
    "    print('Mean = ' + str(mean))\n",
    "    \n",
    "    return x_values, prob0, prob_n"
   ]
  },
  {
   "cell_type": "code",
   "execution_count": 40,
   "metadata": {},
   "outputs": [
    {
     "name": "stdout",
     "output_type": "stream",
     "text": [
      "Mean = 78.37150592265881\n"
     ]
    },
    {
     "data": {
      "image/png": "[encoded data removed]",
      "text/plain": [
       "<Figure size 720x432 with 1 Axes>"
      ]
     },
     "metadata": {
      "needs_background": "light"
     },
     "output_type": "display_data"
    },
    {
     "name": "stdout",
     "output_type": "stream",
     "text": [
      "Time to solution: 0.8465845584869385 seconds.\n"
     ]
    }
   ],
   "source": [
    "def plot_distrib():\n",
    "    \"\"\"\n",
    "    Plot the probability density the initial final positions of the particle\n",
    "        \n",
    "    \"\"\"\n",
    "    \n",
    "    # plot probability distributions for t = 0 and t = 4\n",
    "    \n",
    "    x_values, prob0, prob_n = prob_dens(0)\n",
    "    \n",
    "    plt.plot(x_values, prob0, label='$|\\psi(x,t = 0)|^2$')\n",
    "    plt.plot(x_values, prob_n, label='$|\\psi(x,t = t_{max})|^2$')\n",
    "    plt.ylabel('$|\\psi(x,t)|^2$')\n",
    "    plt.xlabel('x')\n",
    "    plt.title('Probability density as a function of x')\n",
    "    plt.legend()\n",
    "    plt.xlim(0)\n",
    "    plt.ylim(0)\n",
    "    plt.show()\n",
    "    \n",
    "t1 = time.time()\n",
    "plot_distrib()\n",
    "t2 = time.time()\n",
    "print (f\"Time to solution: {t2-t1} seconds.\")"
   ]
  },
  {
   "cell_type": "markdown",
   "metadata": {
    "deletable": false,
    "editable": false,
    "nbgrader": {
     "cell_type": "markdown",
     "checksum": "78f9c05ab558663eee6abd74c130f534",
     "grade": false,
     "grade_id": "section-task4",
     "locked": true,
     "schema_version": 3,
     "solution": false,
     "task": false
    }
   },
   "source": [
    "# Task 4 (10p)\n",
    "\n",
    "Now repeat task 3 for a potential made up of regularly spaced wells such that\n",
    "\n",
    "V=70 for |x-i| < 0.25 where i=0,1,...,100,\n",
    "\n",
    "and V=0 elsewhere.\n",
    "\n",
    "Plot the potential. It should be $V=70$ for $x=0...0.25$, $V=0$ for $x=0.25...0.75$, $V=70$ for $x=0.75...1.25$, and so on.\n",
    "\n",
    "Determine the mean of $|\\psi(x,t)|^2$ as before, with accuracy $\\pm$1.\n",
    "\n",
    "Make sure that dx and dt are sufficiently small to achieve this accuracy!\n",
    "\n",
    "In the cell below, create the potential and plot it over the range [0, 3]."
   ]
  },
  {
   "cell_type": "code",
   "execution_count": 41,
   "metadata": {
    "deletable": false,
    "nbgrader": {
     "cell_type": "code",
     "checksum": "a2c019e4771e7c2e39134e8f9f73c1fb",
     "grade": false,
     "grade_id": "function-task4",
     "locked": false,
     "schema_version": 3,
     "solution": true,
     "task": false
    }
   },
   "outputs": [],
   "source": [
    "def regular_V(x):\n",
    "    \"\"\"\n",
    "    Create potential made up of regularly spaced wells\n",
    "    \n",
    "    Parameters\n",
    "    ----------\n",
    "    x_values: array\n",
    "        x positions of particle's path\n",
    "        \n",
    "    Returns\n",
    "    -------\n",
    "    V: array\n",
    "        Potential made up of regularly spaced wells\n",
    "        \n",
    "    \"\"\"\n",
    "    \n",
    "    V = np.zeros(len(x))\n",
    "    \n",
    "    # condition for desired potential\n",
    "    \n",
    "    leftover = abs(x - np.fix(x))                    # |x - i|\n",
    "    \n",
    "    V = np.where((leftover > 0.25) & (leftover < 0.75), 0, 70)\n",
    "    \n",
    "    return V"
   ]
  },
  {
   "cell_type": "code",
   "execution_count": 42,
   "metadata": {},
   "outputs": [
    {
     "data": {
      "image/png": "[encoded data removed]",
      "text/plain": [
       "<Figure size 720x432 with 1 Axes>"
      ]
     },
     "metadata": {
      "needs_background": "light"
     },
     "output_type": "display_data"
    }
   ],
   "source": [
    "def plot_V():\n",
    "    \"\"\"\n",
    "    Plot the evenly-spaced potential\n",
    "        \n",
    "    \"\"\"\n",
    "    \n",
    "    x = np.arange(0, 3, 2**(-8))\n",
    "    V = regular_V(x)\n",
    "\n",
    "    # plot V against x\n",
    "    plt.plot(x,V)\n",
    "    plt.xlabel('x')\n",
    "    plt.ylabel('V(x)')\n",
    "    plt.xlim([0,3])\n",
    "    plt.ylim(0)\n",
    "    plt.show()\n",
    "    \n",
    "plot_V()"
   ]
  },
  {
   "cell_type": "markdown",
   "metadata": {
    "deletable": false,
    "editable": false,
    "nbgrader": {
     "cell_type": "markdown",
     "checksum": "a677f62e1ff93e1705edb79f9ffda1c5",
     "grade": false,
     "grade_id": "section-task4-cont",
     "locked": true,
     "schema_version": 3,
     "solution": false,
     "task": false
    }
   },
   "source": [
    "# Task 4 continued\n",
    "\n",
    "In the cell below, repeat task 3 with the new potential."
   ]
  },
  {
   "cell_type": "code",
   "execution_count": 43,
   "metadata": {},
   "outputs": [],
   "source": [
    "def task4(dx):\n",
    "    \"\"\"\n",
    "    Create potential made up of regularly spaced wells\n",
    "    \n",
    "    Parameters\n",
    "    ----------\n",
    "    dx: float\n",
    "        Step between equally spaced points in space in the path of the quantum particle\n",
    "        \n",
    "    Returns\n",
    "    -------\n",
    "    x_values: array\n",
    "        x positions of particle's path\n",
    "    psi0: array\n",
    "        Initial condition wavefunction of the partivle\n",
    "    psi_n: array\n",
    "        Wavefunction given a potential\n",
    "        \n",
    "    \"\"\"\n",
    "    # define variables\n",
    "    N4, x_values = form_space(dx)\n",
    "    dt = dx**2/2\n",
    "    V = regular_V(x_values)\n",
    "    hmatrix = hamiltonian(N4, dx, V)\n",
    "                                                                                                                                                                                                             \n",
    "    # set initial condition\n",
    "    psi0 =  psi_initial(x_values, dx, v)\n",
    "    psi_n = psi0.copy()\n",
    "        \n",
    "    #perform the spectral method to obtain a solution\n",
    "    psi_n = spectral(hmatrix, psi0, (0,550), tmax)\n",
    "    \n",
    "\n",
    "    # return only wanted values for t = 0 and t = 4 at all x values\n",
    "    return x_values, psi0, psi_n"
   ]
  },
  {
   "cell_type": "code",
   "execution_count": 44,
   "metadata": {
    "deletable": false,
    "nbgrader": {
     "cell_type": "code",
     "checksum": "2d5de27a32e1e00fc6b5b0ac93f2fc64",
     "grade": false,
     "grade_id": "answer-task4",
     "locked": false,
     "schema_version": 3,
     "solution": true,
     "task": false
    }
   },
   "outputs": [
    {
     "name": "stdout",
     "output_type": "stream",
     "text": [
      "Mean = 57.149720228995584\n"
     ]
    },
    {
     "data": {
      "image/png": "[encoded data removed]",
      "text/plain": [
       "<Figure size 720x432 with 1 Axes>"
      ]
     },
     "metadata": {
      "needs_background": "light"
     },
     "output_type": "display_data"
    }
   ],
   "source": [
    "def prob_dens():   \n",
    "    \"\"\"\n",
    "    Plot the probability density for the given potential\n",
    "        \n",
    "    \"\"\"    \n",
    "    x_values, psi0, psi_n = task4(2**(-5))\n",
    "    \n",
    "    # calculate wanted probability distributions\n",
    "    prob0 = (psi0 * np.conjugate(psi0)).real.astype(float)\n",
    "    prob_n = (psi_n * np.conjugate(psi_n)).real.astype(float)\n",
    "    \n",
    "    # use simpson's rule to integrate     \n",
    "    integrand = prob_n * x_values\n",
    "    mean = integrate.simps(integrand, x=None, dx=2**(-5), even='last')\n",
    "    print('Mean = ' +str(mean))\n",
    "    \n",
    "    # plot probability distributions for t = 0 and t = 4\n",
    "    plt.plot(x_values, prob0, label='$|\\psi(x,t = 0)|^2$')\n",
    "    plt.plot(x_values, prob_n, label='$|\\psi(x,t = t_{max})|^2$')\n",
    "    plt.ylabel('$|\\psi(x,t)|^2$')\n",
    "    plt.xlabel('x')\n",
    "    plt.xlim(0)\n",
    "    plt.ylim(0)\n",
    "    plt.legend()\n",
    "    plt.show()\n",
    "    \n",
    "prob_dens()"
   ]
  },
  {
   "cell_type": "markdown",
   "metadata": {
    "deletable": false,
    "editable": false,
    "nbgrader": {
     "cell_type": "markdown",
     "checksum": "6132662c54c849e9968cb221ea16659f",
     "grade": false,
     "grade_id": "section-task5",
     "locked": true,
     "schema_version": 3,
     "solution": false,
     "task": false
    }
   },
   "source": [
    "# Task 5 (15p)\n",
    "\n",
    "Calculate the probability $P_{1/2}$ of the particle moving through the point x=L/2 by integrating the probability current \n",
    "\n",
    "$\n",
    "\\large\n",
    "\\begin{align}\n",
    "j = (\\psi^*  \\frac{\\partial \\psi}{\\partial x} -\n",
    "\\psi \\frac{\\partial \\psi^*}{\\partial x})(x=L/2)\n",
    "\\end{align}\n",
    "$\n",
    "\n",
    "over time, for t=0...4. The probability can deviate from the true value by no more than $\\pm$0.01 (hint: the correct value is between 0.5 and 1).\n",
    "\n",
    "In the cell below, calculate the probability and print your answer."
   ]
  },
  {
   "cell_type": "markdown",
   "metadata": {},
   "source": [
    "Naïve discretization: $x = jdx, t = n dt$\n",
    "\n",
    "To find the partial derivative of $\\psi$:\n",
    "\n",
    "$\n",
    "\\large\n",
    "\\begin{align}\n",
    "\\frac{\\partial \\psi}{\\partial x} \\rightarrow \\frac{\\psi_{n,j+1} - \\psi_{n,j}}{dx}\n",
    "\\end{align}\n",
    "$\n",
    "\n",
    "$\n",
    "\\large\n",
    "\\begin{align}\n",
    "\\frac{\\partial \\psi^*}{\\partial x} \\rightarrow \\frac{\\psi^*_{n,j+1} - \\psi^*_{n,j}}{dx}\n",
    "\\end{align}\n",
    "$"
   ]
  },
  {
   "cell_type": "markdown",
   "metadata": {},
   "source": [
    "Then we must integrate using Simpson's rule\n",
    "\n",
    "$\n",
    "\\large\n",
    "\\begin{align}\n",
    "P_{1/2} = \\int_{t = 0}^{t_{max}} j dt\n",
    "\\end{align}\n",
    "$"
   ]
  },
  {
   "cell_type": "code",
   "execution_count": 142,
   "metadata": {},
   "outputs": [
    {
     "name": "stdout",
     "output_type": "stream",
     "text": [
      "\u001b[31mERROR: Could not find a version that satisfies the requirement psyco (from versions: none)\u001b[0m\n",
      "\u001b[31mERROR: No matching distribution found for psyco\u001b[0m\n",
      "Note: you may need to restart the kernel to use updated packages.\n"
     ]
    }
   ],
   "source": [
    "pip install psyco"
   ]
  },
  {
   "cell_type": "code",
   "execution_count": 138,
   "metadata": {
    "deletable": false,
    "nbgrader": {
     "cell_type": "code",
     "checksum": "69036dbb6598c88ed2c686173d93177a",
     "grade": false,
     "grade_id": "function-task5",
     "locked": false,
     "schema_version": 3,
     "solution": true,
     "task": false
    }
   },
   "outputs": [],
   "source": [
    "def prob_half(dx5, evalue_range, velocity, potential):\n",
    "    \"\"\"\n",
    "    Use the spectral method to find the wavefunction at all times and compute the probability current\n",
    "    and integrate to calculate the probability of the particle moving through the point x=L/2 \n",
    "    \n",
    "    Parameters\n",
    "    ----------\n",
    "    dx5: float\n",
    "        Step between equally spaced points in space in the path of the quantum particle\n",
    "    evalue_range: array\n",
    "        Range of eigenvalues to use in spectral method\n",
    "    velocity: float\n",
    "        Initial velocity of the particle\n",
    "    potential: array\n",
    "        Potential energy of the particle\n",
    "        \n",
    "    Returns\n",
    "    -------\n",
    "    P_half: float\n",
    "        Probability of the particle moving through the point x=L/2 \n",
    "        \n",
    "    \"\"\"\n",
    "    \n",
    "    #define parameters\n",
    "    \n",
    "    N5, x_values = form_space(dx5)\n",
    "    dt5 = dx5\n",
    "    t_array = np.ascontiguousarray(form_time(tmax, dt5, dx5))\n",
    "    H = hamiltonian(N5, dx5, potential) \n",
    "    psi0 =  ((psi_initial(x_values, dx5, velocity)))   \n",
    "    \n",
    "    currents = np.zeros(t_array.size, dtype=complex)      #empty array for j's at different positions\n",
    "    \n",
    "       \n",
    "    #BEGIN SPECTRAL METHOD\n",
    "    \n",
    "    lam, phi = eigh_tridiagonal(np.diagonal(H), np.diagonal(H,1), select='i', select_range=(evalue_range))\n",
    "    a = np.ascontiguousarray(phi.T).dot(psi0)\n",
    "    \n",
    "    for n in range(t_array.size):\n",
    "        \n",
    "        psi_first = 0\n",
    "        psi_next = 0 \n",
    "                \n",
    "        \n",
    "        for i in range(lam.size):\n",
    "            \n",
    "\n",
    "            psi_first += a[i] * np.exp(-1j * lam[i] * t_array[n]) * phi[int(N5/2), i]\n",
    "            psi_next += a[i] * np.exp(-1j * lam[i] * t_array[n]) * phi[int(N5/2) +1, i]\n",
    "    \n",
    "    #END OF SPECTRAL METHOD\n",
    "        \n",
    "        #calculate probability current at given time \n",
    "        \n",
    "        delta = dx5**(-1) * (psi_next - psi_first)                #naive discretisation (as above)\n",
    "        delta_conj = dx5**(-1) * (np.conjugate(psi_next) - np.conjugate(psi_first))\n",
    "        psi_a_conj = np.conjugate(psi_first)\n",
    "        j = -1j * (np.conjugate(psi_first) * delta - psi_first * delta_conj)\n",
    "        \n",
    "        currents[n] = j\n",
    "    \n",
    "    P_half = (integrate.simps(currents, dx=dt5)).real             #integrate over time to find probability\n",
    "\n",
    "    return P_half"
   ]
  },
  {
   "cell_type": "code",
   "execution_count": 139,
   "metadata": {},
   "outputs": [
    {
     "name": "stdout",
     "output_type": "stream",
     "text": [
      "0.8250041477581509\n",
      "Time to solution: 0.9813263416290283 seconds.\n"
     ]
    }
   ],
   "source": [
    "t1 = time.time()\n",
    "x5 = form_space(2**(-5))[-1]\n",
    "V5 = regular_V(x5)\n",
    "print(prob_half(2**(-5),(200,500), v, V5))\n",
    "t2 = time.time()\n",
    "print (f\"Time to solution: {t2-t1} seconds.\")"
   ]
  },
  {
   "cell_type": "markdown",
   "metadata": {
    "deletable": false,
    "editable": false,
    "nbgrader": {
     "cell_type": "markdown",
     "checksum": "a5704cc71928fbf5402f80cfa8e06bb6",
     "grade": false,
     "grade_id": "section-task6",
     "locked": true,
     "schema_version": 3,
     "solution": false,
     "task": false
    }
   },
   "source": [
    "# Task 6 (15p)\n",
    "\n",
    "Plot the probability $P_{1/2}$ as a function of particle energy E=0...100, for at least 100 equally-spaced values from this range. All $P_{1/2}$ values should be within $\\pm$0.01 of the true values. Use the formula \n",
    "\n",
    "$\n",
    "\\large\n",
    "\\begin{align}\n",
    "E = \\frac{1}{4} v^2\n",
    "\\end{align}\n",
    "$\n",
    "\n",
    "to convert between energy and velocity (valid for Eqs. (1,2)).\n",
    "\n",
    "Bonus question: can you explain why the plot looks like this?\n",
    "\n",
    "Plot the probability in the cell below."
   ]
  },
  {
   "cell_type": "markdown",
   "metadata": {},
   "source": [
    "**At particle energies less than 40, transmission amplitude is low as there is a very small probability of the particle being transmitted through half of the potential barriers. In this case the wavefunction decays but still penetrates the barriers (quantum tunnelling) so the probability is never zero. We can see that at energies 0 < E < 40, the probability decreases - as the energy moves away form zero, the component of the wave reflected from the barriers is larger, so the probability of it being transmitted further decreases. At E > 40, the probability of tunnelling increases as the energy of the particle is larger than half of the potential. Finally when E > V (i.e., when the energy of the particle is higher than that of the potential wells), the transmission amplitude of the particle reaches unity, showing oscillatory behaviour as the wavefunction .**\n"
   ]
  },
  {
   "cell_type": "code",
   "execution_count": 83,
   "metadata": {
    "deletable": false,
    "nbgrader": {
     "cell_type": "code",
     "checksum": "34248862ebaaf5a028b3f562b2fe6efc",
     "grade": false,
     "grade_id": "function-task6",
     "locked": false,
     "schema_version": 3,
     "solution": true,
     "task": false
    }
   },
   "outputs": [
    {
     "data": {
      "image/png": "[encoded data removed]",
      "text/plain": [
       "<Figure size 720x432 with 1 Axes>"
      ]
     },
     "metadata": {
      "needs_background": "light"
     },
     "output_type": "display_data"
    },
    {
     "name": "stdout",
     "output_type": "stream",
     "text": [
      "Time to solution: 1 minutes and 42.48116612434387 seconds.\n"
     ]
    }
   ],
   "source": [
    "t1 = time.time()\n",
    "\n",
    "def plot_energyprobs():\n",
    "    \"\"\"\n",
    "    Plot the probability at x=L/2 against energy of the particle for a range of energies\n",
    "        \n",
    "    \"\"\"   \n",
    "    dx6 = 2**(-5)\n",
    "    N6, x6 = form_space(dx6)\n",
    "    \n",
    "    E = np.arange(0,101))                 # empty array for energy values\n",
    "    probs = np.zeros(E.size)              # empty array for probability values \n",
    "    \n",
    "    \n",
    "    for i in range(E.size):               # loop to convert between energy and velocity and find probability\n",
    "        velocity = np.sqrt(2**2 * E[i])\n",
    "        probs[i] = prob_half(dx6, (200,500), velocity, regular_V(x6))\n",
    "    \n",
    "    plt.plot(E, probs)\n",
    "    plt.xlabel('Particle Energy')\n",
    "    plt.ylabel('$P_{1/2}$')\n",
    "    plt.xlim([0,L])\n",
    "    plt.ylim([0,1])\n",
    "    plt.show()\n",
    "    \n",
    "plot_energyprobs()\n",
    "\n",
    "t2 = time.time()\n",
    "minutes = math.floor((t2-t1)/60)\n",
    "print (f\"Time to solution: {int(math.floor(minutes))} minutes and {t2 - t1 - minutes*60} seconds.\")"
   ]
  },
  {
   "cell_type": "markdown",
   "metadata": {
    "deletable": false,
    "editable": false,
    "nbgrader": {
     "cell_type": "markdown",
     "checksum": "395d9446d8ecec601bd2616f5aa01114",
     "grade": false,
     "grade_id": "section-task7",
     "locked": true,
     "schema_version": 3,
     "solution": false,
     "task": false
    }
   },
   "source": [
    "# Task 7 (10p)\n",
    "\n",
    "Assume again the initial condition of equation (2) with v=16, and consider a disordered potential in which\n",
    "\n",
    "V=70 for |x-i| < b$_i$ where i=0,1,...,100,\n",
    "\n",
    "and b$_i$ is a random variable uniformly distributed on [0.125, 0.375].\n",
    "\n",
    "Find the probability $P_{1/2}$ by averaging over 100 realizations of the random potential (must be accurate to $\\pm$0.02). Plot the histogram of $P_{1/2}$. Comment on the value of $P_{1/2}$ compared with task 5."
   ]
  },
  {
   "cell_type": "code",
   "execution_count": 36,
   "metadata": {
    "deletable": false,
    "nbgrader": {
     "cell_type": "code",
     "checksum": "6bd69d5861aa9544b04e3873d9ae0379",
     "grade": false,
     "grade_id": "answer-task7",
     "locked": false,
     "schema_version": 3,
     "solution": true,
     "task": false
    }
   },
   "outputs": [],
   "source": [
    "def disordered_V(x_array):\n",
    "    \"\"\"\n",
    "    Create potential made up of randomly spaced wells\n",
    "    \n",
    "    Parameters\n",
    "    ----------\n",
    "    x_values: array\n",
    "        x positions of particle's path\n",
    "        \n",
    "    Returns\n",
    "    -------\n",
    "    V: array\n",
    "        Potential made up of randomly spaced wells\n",
    "        \n",
    "    \"\"\"\n",
    "\n",
    "    b = np.random.uniform(0.125, 0.375, x_array.size)           # random variable uniformly distributed\n",
    "    b_n = np.zeros(x_array.size)\n",
    "    \n",
    "    V = np.zeros(len(x_array))\n",
    "    \n",
    "    # condition for desired potential\n",
    "    \n",
    "    leftover = abs(x_array - np.fix(x_array))                   # |x - i|\n",
    "    b_n = np.array(b[x_array.astype(int)])\n",
    "    \n",
    "    V = np.where((leftover > b_n) & (leftover < 1 - b_n), 0, 70)\n",
    "    \n",
    "    return V"
   ]
  },
  {
   "cell_type": "code",
   "execution_count": 37,
   "metadata": {
    "deletable": false,
    "nbgrader": {
     "cell_type": "code",
     "checksum": "546417409ea0cf71ede0771b17aec4ca",
     "grade": false,
     "grade_id": "function-task7",
     "locked": false,
     "schema_version": 3,
     "solution": true,
     "task": false
    }
   },
   "outputs": [],
   "source": [
    "def task7():\n",
    "    \"\"\"\n",
    "    Plot a histogram of the probability at x=L/2 in the randomly spaced potential\n",
    "        \n",
    "    \"\"\"   \n",
    "    # define variables\n",
    "    dx7 = 2**(-5)\n",
    "    N7, x7 = form_space(dx7)\n",
    "    realizations = 100\n",
    "    \n",
    "    probs = np.zeros(realizations)       # empty list of probabilities at x = L/2 for each realization\n",
    "    \n",
    "    for i in range(realizations):        # loop to average probabilities over realizations of the potentials\n",
    "\n",
    "        V7 = disordered_V(x7)\n",
    "        probs[i] = prob_half(dx7, (200,500), 16, V7)          # compute probability at x = L/2\n",
    "    \n",
    "    avg_prob = np.average(probs)                              # take average of the array\n",
    "    \n",
    "    print(avg_prob)\n",
    "    \n",
    "    #plot histogram\n",
    "    hist, bins, p = plt.hist(probs, bins=50, density=True)\n",
    "    plt.xlim(0)\n",
    "    plt.xlabel('$P_{1/2}$')\n",
    "    plt.ylabel('Realizations')\n",
    "    plt.show()"
   ]
  },
  {
   "cell_type": "code",
   "execution_count": 38,
   "metadata": {},
   "outputs": [
    {
     "name": "stdout",
     "output_type": "stream",
     "text": [
      "0.05487770438455202\n"
     ]
    },
    {
     "data": {
      "image/png": "[encoded data removed]",
      "text/plain": [
       "<Figure size 720x432 with 1 Axes>"
      ]
     },
     "metadata": {
      "needs_background": "light"
     },
     "output_type": "display_data"
    },
    {
     "name": "stdout",
     "output_type": "stream",
     "text": [
      "Time to solution: 2 minutes and 4.045889854431152 seconds.\n"
     ]
    }
   ],
   "source": [
    "t1 = time.time()\n",
    "task7()\n",
    "t2 = time.time()\n",
    "minutes = math.floor((t2-t1)/60)\n",
    "print (f\"Time to solution: {minutes} minutes and {t2 - t1 - minutes*60} seconds.\")"
   ]
  },
  {
   "cell_type": "code",
   "execution_count": 32,
   "metadata": {},
   "outputs": [
    {
     "name": "stdout",
     "output_type": "stream",
     "text": [
      "Time to run notebook: 4 minutes and 14.218852043151855 seconds.\n"
     ]
    }
   ],
   "source": [
    "big_crunch = time.time()\n",
    "minutes = math.floor((big_crunch-big_bang)/60)\n",
    "\n",
    "print (f'Time to run notebook: {int(minutes)} minutes and {big_crunch - big_bang - minutes*60} seconds.')"
   ]
  }
 ],
 "metadata": {
  "kernelspec": {
   "display_name": "Python 3",
   "language": "python",
   "name": "python3"
  },
  "language_info": {
   "codemirror_mode": {
    "name": "ipython",
    "version": 3
   },
   "file_extension": ".py",
   "mimetype": "text/x-python",
   "name": "python",
   "nbconvert_exporter": "python",
   "pygments_lexer": "ipython3",
   "version": "3.9.2"
  }
 },
 "nbformat": 4,
 "nbformat_minor": 4
}
